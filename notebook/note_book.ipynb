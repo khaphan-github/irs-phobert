{
 "cells": [
  {
   "cell_type": "code",
   "execution_count": null,
   "id": "8f40360f",
   "metadata": {
    "vscode": {
     "languageId": "plaintext"
    }
   },
   "outputs": [],
   "source": [
    "# Note book"
   ]
  }
 ],
 "metadata": {
  "language_info": {
   "name": "python"
  }
 },
 "nbformat": 4,
 "nbformat_minor": 5
}
